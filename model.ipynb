{
 "cells": [
  {
   "cell_type": "code",
   "execution_count": 1,
   "metadata": {},
   "outputs": [],
   "source": [
    "from keras.layers import Conv2D,MaxPooling2D,Dense,Flatten,Dropout\n",
    "from keras import Sequential\n",
    "from keras.preprocessing.image import ImageDataGenerator"
   ]
  },
  {
   "cell_type": "markdown",
   "metadata": {},
   "source": [
    "# IMAGE PREPROCESSING"
   ]
  },
  {
   "cell_type": "code",
   "execution_count": 3,
   "metadata": {},
   "outputs": [
    {
     "name": "stdout",
     "output_type": "stream",
     "text": [
      "Found 1234 images belonging to 2 classes.\n",
      "Found 218 images belonging to 2 classes.\n"
     ]
    }
   ],
   "source": [
    "train =  ImageDataGenerator(rescale=1./255, shear_range=0.2, zoom_range=0.2, horizontal_flip= True)\n",
    "valid = ImageDataGenerator(rescale=1./255)\n",
    "target = (100,100)\n",
    "batch = 32\n",
    "\n",
    "\n",
    "train_set = train.flow_from_directory('dataset/train',\n",
    "                                      batch_size=batch,\n",
    "                                      target_size= target,\n",
    "                                      color_mode= 'grayscale',\n",
    "                                      class_mode='binary')\n",
    "\n",
    "valid_set = valid.flow_from_directory('dataset/test',\n",
    "                                      batch_size=batch,\n",
    "                                      target_size=target,\n",
    "                                      color_mode='grayscale',\n",
    "                                      class_mode='binary')\n"
   ]
  },
  {
   "cell_type": "code",
   "execution_count": 5,
   "metadata": {},
   "outputs": [
    {
     "name": "stdout",
     "output_type": "stream",
     "text": [
      "38 6\n",
      "{'Closed': 0, 'Open': 1}\n"
     ]
    }
   ],
   "source": [
    "steps_epoch = len(train_set.classes)//batch\n",
    "validation_steps = len(valid_set.classes) // batch\n",
    "print(steps_epoch, validation_steps)\n",
    "print(train_set.class_indices)"
   ]
  },
  {
   "cell_type": "markdown",
   "metadata": {},
   "source": [
    "# MODEL CREATION"
   ]
  },
  {
   "cell_type": "code",
   "execution_count": 6,
   "metadata": {},
   "outputs": [],
   "source": [
    "model = Sequential()\n",
    "model.add(Conv2D(filters=64, kernel_size=(3,3), input_shape = (100,100,1), activation='relu'))\n",
    "model.add(MaxPooling2D(pool_size= (2,2)))\n",
    "\n",
    "model.add(Conv2D(32, (3,3), activation='relu'))\n",
    "model.add(MaxPooling2D(2,2))\n",
    "\n",
    "model.add(Conv2D(32, (3,3), activation='relu'))\n",
    "model.add(MaxPooling2D(2,2))\n",
    "\n",
    "model.add(Conv2D(16, (3,3), activation='relu'))\n",
    "model.add(MaxPooling2D(2,2))\n",
    "\n",
    "model.add(Conv2D(16, (3,3), activation='relu'))\n",
    "model.add(MaxPooling2D(2,2))\n",
    "\n",
    "model.add(Flatten())\n",
    "model.add(Dropout(0.5))\n",
    "\n",
    "model.add(Dense(128, activation='relu'))\n",
    "model.add(Dropout(0.2))\n",
    "\n",
    "model.add(Dense(64, activation='relu'))\n",
    "model.add(Dropout(0.2))\n",
    "\n",
    "model.add(Dense(1,activation='sigmoid'))\n"
   ]
  },
  {
   "cell_type": "markdown",
   "metadata": {},
   "source": [
    "# MODEL TRAINING"
   ]
  },
  {
   "cell_type": "code",
   "execution_count": 7,
   "metadata": {},
   "outputs": [],
   "source": [
    "model.compile(optimizer='adam', loss='binary_crossentropy', metrics=['accuracy'])"
   ]
  },
  {
   "cell_type": "code",
   "execution_count": 8,
   "metadata": {},
   "outputs": [
    {
     "name": "stderr",
     "output_type": "stream",
     "text": [
      "C:\\Users\\Lenovo\\AppData\\Local\\Temp\\ipykernel_15852\\4010835923.py:1: UserWarning: `Model.fit_generator` is deprecated and will be removed in a future version. Please use `Model.fit`, which supports generators.\n",
      "  model.fit_generator(train_set, validation_data=valid_set, epochs=10, steps_per_epoch = steps_epoch, validation_steps= validation_steps)\n"
     ]
    },
    {
     "name": "stdout",
     "output_type": "stream",
     "text": [
      "Epoch 1/10\n",
      "38/38 [==============================] - 45s 1s/step - loss: 0.6812 - accuracy: 0.5433 - val_loss: 0.6132 - val_accuracy: 0.5469\n",
      "Epoch 2/10\n",
      "38/38 [==============================] - 25s 653ms/step - loss: 0.5222 - accuracy: 0.7512 - val_loss: 0.4334 - val_accuracy: 0.8177\n",
      "Epoch 3/10\n",
      "38/38 [==============================] - 24s 627ms/step - loss: 0.3401 - accuracy: 0.8719 - val_loss: 0.2536 - val_accuracy: 0.8958\n",
      "Epoch 4/10\n",
      "38/38 [==============================] - 24s 622ms/step - loss: 0.2263 - accuracy: 0.9176 - val_loss: 0.2655 - val_accuracy: 0.8802\n",
      "Epoch 5/10\n",
      "38/38 [==============================] - 24s 629ms/step - loss: 0.2174 - accuracy: 0.9235 - val_loss: 0.1950 - val_accuracy: 0.9323\n",
      "Epoch 6/10\n",
      "38/38 [==============================] - 23s 605ms/step - loss: 0.2115 - accuracy: 0.9243 - val_loss: 0.1666 - val_accuracy: 0.9323\n",
      "Epoch 7/10\n",
      "38/38 [==============================] - 23s 593ms/step - loss: 0.1848 - accuracy: 0.9326 - val_loss: 0.1528 - val_accuracy: 0.9427\n",
      "Epoch 8/10\n",
      "38/38 [==============================] - 24s 637ms/step - loss: 0.1752 - accuracy: 0.9368 - val_loss: 0.1525 - val_accuracy: 0.9375\n",
      "Epoch 9/10\n",
      "38/38 [==============================] - 28s 728ms/step - loss: 0.1507 - accuracy: 0.9409 - val_loss: 0.1104 - val_accuracy: 0.9583\n",
      "Epoch 10/10\n",
      "38/38 [==============================] - 25s 663ms/step - loss: 0.1529 - accuracy: 0.9468 - val_loss: 0.1073 - val_accuracy: 0.9583\n"
     ]
    },
    {
     "data": {
      "text/plain": [
       "<keras.src.callbacks.History at 0x16d6cf93990>"
      ]
     },
     "execution_count": 8,
     "metadata": {},
     "output_type": "execute_result"
    }
   ],
   "source": [
    "model.fit_generator(train_set, \n",
    "                    validation_data=valid_set, \n",
    "                    epochs=10, \n",
    "                    steps_per_epoch = steps_epoch, \n",
    "                    validation_steps= validation_steps)"
   ]
  },
  {
   "cell_type": "code",
   "execution_count": 9,
   "metadata": {},
   "outputs": [
    {
     "name": "stderr",
     "output_type": "stream",
     "text": [
      "e:\\python311\\Lib\\site-packages\\keras\\src\\engine\\training.py:3079: UserWarning: You are saving your model as an HDF5 file via `model.save()`. This file format is considered legacy. We recommend using instead the native Keras format, e.g. `model.save('my_model.keras')`.\n",
      "  saving_api.save_model(\n"
     ]
    }
   ],
   "source": [
    "model.save('models/cnn_2.h5', overwrite=True)"
   ]
  },
  {
   "cell_type": "markdown",
   "metadata": {},
   "source": [
    "# PREDICTION"
   ]
  },
  {
   "cell_type": "code",
   "execution_count": 31,
   "metadata": {},
   "outputs": [
    {
     "name": "stdout",
     "output_type": "stream",
     "text": [
      "1/1 [==============================] - 0s 216ms/step\n",
      "[[0.6454252]]\n"
     ]
    }
   ],
   "source": [
    "from keras.preprocessing import image\n",
    "from keras.models import load_model\n",
    "import numpy as np \n",
    "\n",
    "img_path = 'image.jpg'\n",
    "pred_img = image.load_img(img_path, target_size=(100,100), color_mode='grayscale')\n",
    "\n",
    "img_arr = image.img_to_array(pred_img)\n",
    "img_arr = img_arr / 255.0\n",
    "img_arr = np.expand_dims(img_arr, axis=0)\n",
    "\n",
    "model = load_model('models/cnn_2.h5')\n",
    "pred = model.predict(img_arr)\n",
    "print(pred)"
   ]
  },
  {
   "cell_type": "code",
   "execution_count": 32,
   "metadata": {},
   "outputs": [
    {
     "name": "stdout",
     "output_type": "stream",
     "text": [
      "1\n"
     ]
    }
   ],
   "source": [
    "if (pred < 0.5):\n",
    "    pred = 0\n",
    "else:\n",
    "    pred = 1\n",
    "\n",
    "print(pred)"
   ]
  }
 ],
 "metadata": {
  "kernelspec": {
   "display_name": "Python 3",
   "language": "python",
   "name": "python3"
  },
  "language_info": {
   "codemirror_mode": {
    "name": "ipython",
    "version": 3
   },
   "file_extension": ".py",
   "mimetype": "text/x-python",
   "name": "python",
   "nbconvert_exporter": "python",
   "pygments_lexer": "ipython3",
   "version": "3.11.5"
  }
 },
 "nbformat": 4,
 "nbformat_minor": 2
}
